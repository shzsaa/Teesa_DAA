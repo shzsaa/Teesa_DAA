{
  "nbformat": 4,
  "nbformat_minor": 0,
  "metadata": {
    "colab": {
      "provenance": []
    },
    "kernelspec": {
      "name": "python3",
      "display_name": "Python 3"
    },
    "language_info": {
      "name": "python"
    }
  },
  "cells": [
    {
      "cell_type": "markdown",
      "source": [
        "summation"
      ],
      "metadata": {
        "id": "8oB6SO4epLE_"
      }
    },
    {
      "cell_type": "code",
      "execution_count": 1,
      "metadata": {
        "colab": {
          "base_uri": "https://localhost:8080/"
        },
        "id": "aotrTaPhW2kk",
        "outputId": "b3f6466a-6b73-487e-be76-2ff9a37e30e6"
      },
      "outputs": [
        {
          "output_type": "stream",
          "name": "stdout",
          "text": [
            "11\n",
            "Maximum contiguous sum is 45\n",
            "Maximum contiguous sum is 12\n"
          ]
        }
      ],
      "source": [
        "# Python program to find maximum sum subarray\n",
        "# in O(n Log n) time\n",
        "# Find the maximum possible sum in arr[]\n",
        "# such that arr[m] is part of it\n",
        "\n",
        "def maxCrossingSum(arr, l, m, h):\n",
        "\n",
        "    # Include elements on left of mid.\n",
        "    sm = 0\n",
        "    left_sum = -10000\n",
        "\n",
        "    for i in range(m, l-1, -1):\n",
        "        sm = sm + arr[i]\n",
        "\n",
        "        if (sm > left_sum):\n",
        "            left_sum = sm\n",
        "\n",
        "    # Include elements on right of mid\n",
        "    sm = 0\n",
        "    right_sum = -10000\n",
        "    for i in range(m + 1, h + 1):\n",
        "        sm = sm + arr[i]\n",
        "\n",
        "        if (sm > right_sum):\n",
        "            right_sum = sm\n",
        "\n",
        "    # Return sum of elements on left and right of mid\n",
        "    return max(left_sum + right_sum - arr[m], left_sum, right_sum)\n",
        "\n",
        "# Test function with input array [-2, 11]\n",
        "print(maxCrossingSum([-2, 11], 0, 0, 1))\n",
        "\n",
        "\n",
        "# Returns sum of maximum sum subarray in arr[l..h]\n",
        "def maxSubArraySum(arr, l, h):\n",
        "    # Base Case: Only one element\n",
        "    if (l == h):\n",
        "        return arr[l]\n",
        "\n",
        "    # Find middle point\n",
        "    m = (l + h) // 2\n",
        "\n",
        "    # Return maximum of following three possible cases\n",
        "    # a) Maximum subarray sum in left half\n",
        "    # b) Maximum subarray sum in right half\n",
        "    # c) Maximum subarray sum such that the\n",
        "    #    subarray crosses the midpoint\n",
        "    return max(maxSubArraySum(arr, l, m),\n",
        "               maxSubArraySum(arr, m+1, h),\n",
        "               maxCrossingSum(arr, l, m, h))\n",
        "\n",
        "# Driver Code\n",
        "arr = [4, 12, -3, 29, -21, -55, 35, 22, -24]\n",
        "n = len(arr)\n",
        "print(\"Maximum contiguous sum is\", maxSubArraySum(arr, 0, n-1))\n",
        "\n",
        "arr = [12, -5, -21, -3, -84, 5, 9]\n",
        "n = len(arr)\n",
        "print(\"Maximum contiguous sum is\", maxSubArraySum(arr, 0, n-1))\n"
      ]
    },
    {
      "cell_type": "markdown",
      "source": [
        "MIN MAX"
      ],
      "metadata": {
        "id": "sFUDalqwp-kQ"
      }
    },
    {
      "cell_type": "code",
      "source": [
        "def divideAndConquer_Max(arr, ind, len):\n",
        "    maximum = -1\n",
        "    if (ind >= len - 2):\n",
        "        if (arr[ind] > arr[ind + 1]):\n",
        "            return arr[ind]\n",
        "        else:\n",
        "            return arr[ind + 1]\n",
        "    maximum = divideAndConquer_Max(arr, ind + 1, len)\n",
        "    if (arr[ind] > maximum):\n",
        "        return arr[ind]\n",
        "    else:\n",
        "        return maximum\n",
        "\n",
        "def divideAndConquer_Min(arr, ind, len):\n",
        "    minimum = 0\n",
        "    if (ind >= len - 2):\n",
        "        if (arr[ind] < arr[ind + 1]):\n",
        "            return arr[ind]\n",
        "        else:\n",
        "            return arr[ind + 1]\n",
        "    minimum = divideAndConquer_Min(arr, ind + 1, len)\n",
        "    if (arr[ind] < minimum):\n",
        "        return arr[ind]\n",
        "    else:\n",
        "        return minimum\n",
        "\n",
        "minimum, maximum = 0, -1\n",
        "\n",
        "# array initialization\n",
        "arr = [6, 4, 8, 90, 12, 56, 7, 1, 63]\n",
        "\n",
        "maximum = divideAndConquer_Max(arr, 0, 9)\n",
        "minimum = divideAndConquer_Min(arr, 0, 9)\n",
        "\n",
        "print(\"The minimum number in the array is: \", minimum)\n",
        "print(\"The maximum number in the array is: \", maximum)\n",
        "\n"
      ],
      "metadata": {
        "colab": {
          "base_uri": "https://localhost:8080/"
        },
        "id": "LEmTswy1ZfbH",
        "outputId": "27645ba0-d50f-41b5-8df7-6dc740bfa6f3"
      },
      "execution_count": 3,
      "outputs": [
        {
          "output_type": "stream",
          "name": "stdout",
          "text": [
            "The minimum number in the array is:  1\n",
            "The maximum number in the array is:  90\n"
          ]
        }
      ]
    },
    {
      "cell_type": "markdown",
      "source": [
        "MERGE SORT"
      ],
      "metadata": {
        "id": "f5EbpXLYqBai"
      }
    },
    {
      "cell_type": "code",
      "source": [
        "# MergeSort in Python\n",
        "\n",
        "def mergeSort(array):\n",
        "    if len(array) > 1:\n",
        "\n",
        "        # r is the point where the array is divided into two subarrays\n",
        "        r = len(array) // 2\n",
        "        L = array[:r]\n",
        "        M = array[r:]\n",
        "\n",
        "        # Sort the two halves\n",
        "        mergeSort(L)\n",
        "        mergeSort(M)\n",
        "\n",
        "        i = j = k = 0\n",
        "\n",
        "        # Until we reach either end of either L or M, pick larger among\n",
        "        # elements L and M and place them in the correct position at A[p..r]\n",
        "        while i < len(L) and j < len(M):\n",
        "            if L[i] < M[j]:\n",
        "                array[k] = L[i]\n",
        "                i += 1\n",
        "            else:\n",
        "                array[k] = M[j]\n",
        "                j += 1\n",
        "            k += 1\n",
        "\n",
        "        # When we run out of elements in either L or M,\n",
        "        # pick up the remaining elements and put in A[p..r]\n",
        "        while i < len(L):\n",
        "            array[k] = L[i]\n",
        "            i += 1\n",
        "            k += 1\n",
        "\n",
        "        while j < len(M):\n",
        "            array[k] = M[j]\n",
        "            j += 1\n",
        "            k += 1\n",
        "\n",
        "# Code to print the list\n",
        "\n",
        "def printList(array):\n",
        "    for i in range(len(array)):\n",
        "        print(array[i], end=\" \")\n",
        "    print()\n",
        "\n",
        "# Test the mergeSort function\n",
        "arr = [6, 4, 8, 90, 12, 56, 7, 1, 63]\n",
        "mergeSort(arr)\n",
        "print(\"Sorted array is: \")\n",
        "printList(arr)\n",
        "\n",
        "# Print the array\n",
        "def printList(array):\n",
        "    for i in range(len(array)):\n",
        "        print(array[i], end=\" \")\n",
        "    print()\n",
        "\n",
        "array = [8, 3, 2, 9, 7, 1, 5, 4]\n",
        "mergeSort(array)\n",
        "\n",
        "print(\"Sorted array is: \")\n",
        "printList(array)\n"
      ],
      "metadata": {
        "colab": {
          "base_uri": "https://localhost:8080/"
        },
        "id": "IjT49WNMaKHB",
        "outputId": "85c731c8-1125-46a9-a874-04e9d8bf9eb7"
      },
      "execution_count": 4,
      "outputs": [
        {
          "output_type": "stream",
          "name": "stdout",
          "text": [
            "Sorted array is: \n",
            "1 4 6 7 8 12 56 63 90 \n",
            "Sorted array is: \n",
            "1 2 3 4 5 7 8 9 \n"
          ]
        }
      ]
    },
    {
      "cell_type": "markdown",
      "source": [
        "INSERTION SORT"
      ],
      "metadata": {
        "id": "wNBKAITJqScd"
      }
    },
    {
      "cell_type": "code",
      "source": [
        "def insertion_sort(arr):\n",
        "    for i in range(1, len(arr)):\n",
        "        key = arr[i]\n",
        "        j = i - 1\n",
        "        while j >= 0 and key < arr[j]:\n",
        "            arr[j + 1] = arr[j]\n",
        "            j -= 1\n",
        "        arr[j + 1] = key\n",
        "    return arr\n",
        "\n",
        "# Contoh penggunaan\n",
        "arr = [4, 12, 23, 9, 21, 1, 5, 2]\n",
        "print(\"Sorted array is:\", insertion_sort(arr))\n"
      ],
      "metadata": {
        "colab": {
          "base_uri": "https://localhost:8080/"
        },
        "id": "EAiR1w0oqUXR",
        "outputId": "ee43806b-0598-4c41-fd2c-329cfbfdd15f"
      },
      "execution_count": 19,
      "outputs": [
        {
          "output_type": "stream",
          "name": "stdout",
          "text": [
            "Sorted array is: [1, 2, 4, 5, 9, 12, 21, 23]\n"
          ]
        }
      ]
    },
    {
      "cell_type": "markdown",
      "source": [
        "QUICK SORT"
      ],
      "metadata": {
        "id": "X-P30vJRqHQb"
      }
    },
    {
      "cell_type": "code",
      "source": [
        "# Python program for implementation of Quicksort Sort\n",
        "\n",
        "# This function takes last element as pivot, places\n",
        "# the pivot element at its correct position in sorted\n",
        "# array, and places all smaller (smaller than pivot)\n",
        "# to left of pivot and all greater elements to right\n",
        "# of pivot\n",
        "\n",
        "def partition(arr, low, high):\n",
        "    i = (low-1)         # index of smaller element\n",
        "    pivot = arr[high]     # pivot\n",
        "\n",
        "    for j in range(low , high):\n",
        "\n",
        "        # If current element is smaller than or\n",
        "        # equal to pivot\n",
        "        if arr[j] <= pivot:\n",
        "\n",
        "            # increment index of smaller element\n",
        "            i = i+1\n",
        "            arr[i],arr[j] = arr[j],arr[i]\n",
        "\n",
        "    arr[i+1],arr[high] = arr[high],arr[i+1]\n",
        "    return (i+1)\n",
        "\n",
        "# Function to do Quick sort\n",
        "def quickSort(arr,low,high):\n",
        "    if low < high:\n",
        "\n",
        "        # pi is partitioning index, arr[p] is now\n",
        "        # at right place\n",
        "        pi = partition(arr,low,high)\n",
        "\n",
        "        # Separately sort elements before\n",
        "        # partition and after partition\n",
        "        quickSort(arr, low, pi-1)\n",
        "        quickSort(arr, pi+1, high)\n",
        "\n",
        "def quickSort(array, low, high):\n",
        "    if low < high:\n",
        "        # Find pivot element such that\n",
        "        # element smaller than pivot are on the left\n",
        "        # element greater than pivot are on the right\n",
        "        pi = partition(array, low, high)\n",
        "\n",
        "        # Recursive call on the left of pivot\n",
        "        quickSort(array, low, pi - 1)\n",
        "\n",
        "        # Recursive call on the right of pivot\n",
        "        quickSort(array, pi + 1, high)\n",
        "\n",
        "data = [1, 7, 4, 10, -2]\n",
        "print(\"Unsorted Array:\", data)\n",
        "\n",
        "size = len(data)\n",
        "quickSort(data, 0, size - 1)\n",
        "\n",
        "print(\"Sorted Array in Ascending Order:\")\n",
        "print(data)\n"
      ],
      "metadata": {
        "colab": {
          "base_uri": "https://localhost:8080/"
        },
        "id": "OJLhg360kJ4E",
        "outputId": "bf8a32f2-d6f8-43b7-d33a-aff61ca7d4fc"
      },
      "execution_count": 5,
      "outputs": [
        {
          "output_type": "stream",
          "name": "stdout",
          "text": [
            "Unsorted Array: [1, 7, 4, 10, -2]\n",
            "Sorted Array in Ascending Order:\n",
            "[-2, 1, 4, 7, 10]\n"
          ]
        }
      ]
    },
    {
      "cell_type": "code",
      "source": [
        "# Hitung Inversi\n",
        "def countInversion(arr):\n",
        "    result = 0\n",
        "    for i in range(len(arr)):\n",
        "        for j in range(i + 1, len(arr)):\n",
        "            if arr[i] > arr[j]:\n",
        "                result += 1\n",
        "    return result\n",
        "\n",
        "arr = [21, 70, 36, 14, 25]\n",
        "result = countInversion(arr)\n",
        "print(result)\n"
      ],
      "metadata": {
        "colab": {
          "base_uri": "https://localhost:8080/"
        },
        "id": "qv7mGRytkq3k",
        "outputId": "35a90394-210d-4203-806e-6fdd8205c84d"
      },
      "execution_count": 6,
      "outputs": [
        {
          "output_type": "stream",
          "name": "stdout",
          "text": [
            "6\n"
          ]
        }
      ]
    },
    {
      "cell_type": "code",
      "source": [
        "def countInversion(arr):\n",
        "    # Hitung Inversi dengan divide dan conquer\n",
        "\n",
        "    if len(arr) < 2:\n",
        "        return arr, 0\n",
        "\n",
        "    mid = len(arr) // 2\n",
        "    left, right = arr[:mid], arr[mid:]\n",
        "\n",
        "    # Hitung Inversi di bagian kiri dan kanan\n",
        "    left, left_count = countInversion(left)\n",
        "    right, right_count = countInversion(right)\n",
        "\n",
        "    i = j = k = 0\n",
        "    count = 0\n",
        "\n",
        "    # Penggabungan dan hitung inversi\n",
        "    while i < len(left) and j < len(right):\n",
        "        if left[i] <= right[j]:\n",
        "            arr[k] = left[i]\n",
        "            i += 1\n",
        "        else:\n",
        "            arr[k] = right[j]\n",
        "            j += 1\n",
        "            count += len(left) - i  # Semua elemen tersisa di kiri adalah inversi\n",
        "        k += 1\n",
        "\n",
        "    # Copy sisa elemen di left (jika ada)\n",
        "    while i < len(left):\n",
        "        arr[k] = left[i]\n",
        "        i += 1\n",
        "        k += 1\n",
        "\n",
        "    # Copy sisa elemen di right (jika ada)\n",
        "    while j < len(right):\n",
        "        arr[k] = right[j]\n",
        "        j += 1\n",
        "        k += 1\n",
        "\n",
        "    return arr, count + left_count + right_count\n",
        "\n",
        "# Contoh pemanggilan fungsi:\n",
        "result, inversions = countInversion([1, 20, 6, 4])\n",
        "print(\"Sorted Array:\", result)\n",
        "print(\"Number of Inversions:\", inversions)\n"
      ],
      "metadata": {
        "colab": {
          "base_uri": "https://localhost:8080/"
        },
        "id": "W9HXrZUzlkKc",
        "outputId": "01b0bef0-bcaa-4fb6-dbe3-222ebff809eb"
      },
      "execution_count": 9,
      "outputs": [
        {
          "output_type": "stream",
          "name": "stdout",
          "text": [
            "Sorted Array: [1, 4, 6, 20]\n",
            "Number of Inversions: 3\n"
          ]
        }
      ]
    },
    {
      "cell_type": "code",
      "source": [
        "def maxSubArray(arr):\n",
        "    max_ending_here = max_so_far = 0\n",
        "    for i in range(len(arr)):\n",
        "        max_ending_here += arr[i]\n",
        "        if max_ending_here < 0:\n",
        "            max_ending_here = 0\n",
        "        if max_so_far < max_ending_here:\n",
        "            max_so_far = max_ending_here\n",
        "    return max_so_far\n",
        "\n",
        "arr = [2, -5, 6, -2, -3, 1, 5, -6]\n",
        "print(maxSubArray(arr))\n"
      ],
      "metadata": {
        "colab": {
          "base_uri": "https://localhost:8080/"
        },
        "id": "usuZExBVmB-l",
        "outputId": "81778ff5-f209-4580-ee32-8a906ea818f4"
      },
      "execution_count": 8,
      "outputs": [
        {
          "output_type": "stream",
          "name": "stdout",
          "text": [
            "7\n"
          ]
        }
      ]
    },
    {
      "cell_type": "code",
      "source": [
        "# Menggunakan Divide and Conquer\n",
        "\n",
        "def maxCrossingSum(arr, low, mid, high):\n",
        "    result = 0\n",
        "    leftSum = float('-infinity')\n",
        "    for i in range(mid, low - 1, -1):\n",
        "        result += arr[i]\n",
        "        if result > leftSum:\n",
        "            leftSum = result\n",
        "\n",
        "    result = 0\n",
        "    rightSum = float('-infinity')\n",
        "    for i in range(mid + 1, high + 1):\n",
        "        result += arr[i]\n",
        "        if result > rightSum:\n",
        "            rightSum = result\n",
        "\n",
        "    return leftSum + rightSum\n",
        "\n",
        "def maxSum(arr, low, high):\n",
        "    if low == high:\n",
        "        return arr[low]\n",
        "\n",
        "    mid = (low + high) // 2\n",
        "    return max(maxSum(arr, low, mid), maxSum(arr, mid + 1, high), maxCrossingSum(arr, low, mid, high))\n",
        "\n",
        "arr = [-2, -5, 6, -2, -3, 1, 5, -6]\n",
        "result = maxSum(arr, 0, len(arr) - 1)\n",
        "print(result)\n"
      ],
      "metadata": {
        "colab": {
          "base_uri": "https://localhost:8080/"
        },
        "id": "tX09JB0emVcL",
        "outputId": "e0b48ed5-4532-4c72-b5a6-10c3d322b816"
      },
      "execution_count": 10,
      "outputs": [
        {
          "output_type": "stream",
          "name": "stdout",
          "text": [
            "7\n"
          ]
        }
      ]
    },
    {
      "cell_type": "code",
      "source": [
        "def longestCommonPrefix(strs):\n",
        "    size = len(strs)\n",
        "    if size == 0:\n",
        "        return \"\"\n",
        "    if size == 1:\n",
        "        return strs[0]\n",
        "\n",
        "    # sort the array of strings\n",
        "    strs.sort()\n",
        "\n",
        "    # find the minimum length from\n",
        "    # first and last string\n",
        "    end = min(len(strs[0]), len(strs[size - 1]))\n",
        "\n",
        "    # find the common prefix between\n",
        "    # the first and last string\n",
        "    i = 0\n",
        "    while (i < end and strs[0][i] == strs[size - 1][i]):\n",
        "        i += 1\n",
        "\n",
        "    pre = strs[0][0: i]\n",
        "    return pre\n",
        "\n",
        "# Driver program to test above function\n",
        "strs = [\"geeksforgeeks\", \"geeks\", \"geek\", \"geezer\"]\n",
        "print(\"The longest Common Prefix is :\" + longestCommonPrefix(strs))\n"
      ],
      "metadata": {
        "colab": {
          "base_uri": "https://localhost:8080/"
        },
        "id": "rqlLxv98msaG",
        "outputId": "066e96bf-3588-4373-c4d2-426c5d5eef2d"
      },
      "execution_count": 11,
      "outputs": [
        {
          "output_type": "stream",
          "name": "stdout",
          "text": [
            "The longest Common Prefix is :gee\n"
          ]
        }
      ]
    },
    {
      "cell_type": "code",
      "source": [
        "def medianOfArray(arr1, arr2, n):\n",
        "    m1 = -1  # first number\n",
        "    m2 = -1  # second number\n",
        "    count = 0\n",
        "    i = j = 0\n",
        "\n",
        "    while count < n + 1:\n",
        "        count += 1\n",
        "\n",
        "        if i == n:\n",
        "            m1 = m2\n",
        "            m2 = arr2[0]\n",
        "            break\n",
        "        elif j == n:\n",
        "            m1 = m2\n",
        "            m2 = arr1[0]\n",
        "            break\n",
        "\n",
        "        if arr1[i] < arr2[j]:\n",
        "            m1 = m2\n",
        "            m2 = arr1[i]\n",
        "            i += 1\n",
        "        else:\n",
        "            m1 = m2\n",
        "            m2 = arr2[j]\n",
        "            j += 1\n",
        "\n",
        "    return (m1 + m2) // 2\n",
        "\n",
        "arr1 = [1, 12, 15, 26, 38]\n",
        "arr2 = [2, 13, 17, 30, 45]\n",
        "print(medianOfArray(arr1, arr2, len(arr1)))\n"
      ],
      "metadata": {
        "colab": {
          "base_uri": "https://localhost:8080/"
        },
        "id": "Hwq1OvHXm4pQ",
        "outputId": "424025e2-449b-487a-c19b-ffb83a8370bb"
      },
      "execution_count": 12,
      "outputs": [
        {
          "output_type": "stream",
          "name": "stdout",
          "text": [
            "16\n"
          ]
        }
      ]
    },
    {
      "cell_type": "code",
      "source": [
        "def Solution(arr):\n",
        "    # Jika panjang array genap\n",
        "    if len(arr) % 2 == 0:\n",
        "        z = len(arr) // 2\n",
        "        e = arr[z]\n",
        "        q = arr[z - 1]\n",
        "        ans = (e + q) / 2\n",
        "        return ans\n",
        "    # Jika panjang array ganjil\n",
        "    else:\n",
        "        ans = arr[len(arr) // 2]\n",
        "        return ans\n",
        "\n",
        "# Contoh penggunaan\n",
        "arr1 = [-5, 3, 6, 12, 15]\n",
        "arr2 = [-12, -10, -6, -3, 4, 10]\n",
        "# Menggabungkan dua array\n",
        "arr3 = arr1 + arr2\n",
        "# Mengurutkan array hasil gabungan\n",
        "arr3.sort()\n",
        "print(\"Median =\", Solution(arr3))\n"
      ],
      "metadata": {
        "colab": {
          "base_uri": "https://localhost:8080/"
        },
        "id": "IYXNuHTim843",
        "outputId": "cd4c9873-763e-4abb-8167-26246c9988a3"
      },
      "execution_count": 13,
      "outputs": [
        {
          "output_type": "stream",
          "name": "stdout",
          "text": [
            "Median = 3\n"
          ]
        }
      ]
    },
    {
      "cell_type": "code",
      "source": [
        "def floorSorted(arr, low, high, x):\n",
        "    if low > high:\n",
        "        return -1\n",
        "    if x >= arr[high]:\n",
        "        return arr[high]\n",
        "\n",
        "    mid = (low + high) // 2\n",
        "\n",
        "    if arr[mid] == x:\n",
        "        return arr[mid]\n",
        "\n",
        "    if mid > 0 and arr[mid-1] <= x and x < arr[mid]:\n",
        "        return arr[mid-1]\n",
        "\n",
        "    if x < arr[mid]:\n",
        "        return floorSorted(arr, low, mid-1, x)\n",
        "\n",
        "    return floorSorted(arr, mid+1, high, x)\n",
        "\n",
        "# Driver program to check above functions\n",
        "arr = [1, 2, 8, 10, 12, 14, 19]\n",
        "x = 5\n",
        "print(\"Floor of\", x, \"in sorted array is\", floorSorted(arr, 0, len(arr)-1, x))\n"
      ],
      "metadata": {
        "colab": {
          "base_uri": "https://localhost:8080/"
        },
        "id": "26y4MOlinrK0",
        "outputId": "401293cf-07da-46d8-e2f3-4beb01ce4b08"
      },
      "execution_count": 15,
      "outputs": [
        {
          "output_type": "stream",
          "name": "stdout",
          "text": [
            "Floor of 5 in sorted array is 2\n"
          ]
        }
      ]
    },
    {
      "cell_type": "code",
      "source": [
        "def closestNumber(arr, low, high, x):\n",
        "    if low > high:\n",
        "        return -1\n",
        "    if arr[high] <= x:\n",
        "        return arr[high]\n",
        "    if arr[low] >= x:\n",
        "        return arr[low]\n",
        "\n",
        "    mid = (low + high) // 2\n",
        "\n",
        "    if arr[mid] == x:\n",
        "        return arr[mid]\n",
        "\n",
        "    abs_mid = abs(arr[mid] - x)\n",
        "    if mid > 0:\n",
        "        abs_left = abs(arr[mid - 1] - x)\n",
        "        if abs_left < abs_mid:\n",
        "            return closestNumber(arr, low, mid - 1, x)\n",
        "\n",
        "    if mid < high:\n",
        "        abs_right = abs(arr[mid + 1] - x)\n",
        "        if abs_right < abs_mid:\n",
        "            return closestNumber(arr, mid + 1, high, x)\n",
        "\n",
        "    return arr[mid]\n",
        "\n",
        "# Contoh penggunaan\n",
        "arr = [2, 5, 6, 7, 8, 8, 9]\n",
        "x = 9\n",
        "print(closestNumber(arr, 0, len(arr) - 1, x))\n"
      ],
      "metadata": {
        "colab": {
          "base_uri": "https://localhost:8080/"
        },
        "id": "xPm_D9BVnxCQ",
        "outputId": "f4aa49bc-5011-4174-eec9-790e8fbedac5"
      },
      "execution_count": 16,
      "outputs": [
        {
          "output_type": "stream",
          "name": "stdout",
          "text": [
            "9\n"
          ]
        }
      ]
    },
    {
      "cell_type": "code",
      "source": [
        "def find_closest(lst, k):\n",
        "    lst.sort()\n",
        "    closest_num = lst[0]\n",
        "    for num in lst:\n",
        "        if abs(num - k) < abs(closest_num - k):\n",
        "            closest_num = num\n",
        "        if num > k:\n",
        "            break\n",
        "    return closest_num\n",
        "\n",
        "# Contoh penggunaan\n",
        "lst = [3.64, 5.2, 9.42, 9.35, 8.5, 8]\n",
        "k = 9.1\n",
        "print(find_closest(lst, k))\n",
        "\n",
        "lst = [2, 5, 5, 7, 8, 8, 9]\n",
        "k = 6\n",
        "print(find_closest(lst, k))\n"
      ],
      "metadata": {
        "colab": {
          "base_uri": "https://localhost:8080/"
        },
        "id": "oacjzBYYoNTL",
        "outputId": "35e22f7d-9d5e-41e2-f16c-30c741a11a93"
      },
      "execution_count": 17,
      "outputs": [
        {
          "output_type": "stream",
          "name": "stdout",
          "text": [
            "9.35\n",
            "5\n"
          ]
        }
      ]
    },
    {
      "cell_type": "code",
      "source": [
        "def fixedPoint(arr, low, high):\n",
        "    if low > high:\n",
        "        return -1\n",
        "    if arr[low] == low:\n",
        "        return low\n",
        "    if arr[high] == high:\n",
        "        return high\n",
        "    mid = (low + high) // 2\n",
        "    if arr[mid] == mid:\n",
        "        return mid\n",
        "    res = fixedPoint(arr, low, mid - 1)\n",
        "    if res != -1:\n",
        "        return res\n",
        "    return fixedPoint(arr, mid + 1, high)\n",
        "\n",
        "arr = [9, 1, 4, 5, 2]\n",
        "print(fixedPoint(arr, 0, len(arr) - 1))\n"
      ],
      "metadata": {
        "colab": {
          "base_uri": "https://localhost:8080/"
        },
        "id": "EiLPHqJDoRGv",
        "outputId": "ec774298-be43-42ac-e461-8cbd01977c62"
      },
      "execution_count": 18,
      "outputs": [
        {
          "output_type": "stream",
          "name": "stdout",
          "text": [
            "1\n"
          ]
        }
      ]
    }
  ]
}
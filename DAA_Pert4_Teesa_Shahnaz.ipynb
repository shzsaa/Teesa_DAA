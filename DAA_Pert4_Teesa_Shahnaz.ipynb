{
  "nbformat": 4,
  "nbformat_minor": 0,
  "metadata": {
    "colab": {
      "provenance": []
    },
    "kernelspec": {
      "name": "python3",
      "display_name": "Python 3"
    },
    "language_info": {
      "name": "python"
    }
  },
  "cells": [
    {
      "cell_type": "code",
      "execution_count": 1,
      "metadata": {
        "colab": {
          "base_uri": "https://localhost:8080/"
        },
        "id": "97Ndi4uYGxcq",
        "outputId": "ffb7fdc0-717a-4f96-aa1d-5881ca4fe1ce"
      },
      "outputs": [
        {
          "output_type": "stream",
          "name": "stdout",
          "text": [
            "2 1\n"
          ]
        }
      ],
      "source": [
        "# Swap function\n",
        "var1 = 1\n",
        "var2 = 2\n",
        "\n",
        "# Swapping var1 and var2\n",
        "var1, var2 = var2, var1\n",
        "\n",
        "print(var1, var2)\n"
      ]
    },
    {
      "cell_type": "code",
      "source": [
        "#Buat fungsi swap dengan menambahkan variabel ketiga bernama var3!\n",
        "\n",
        "def swap(var1, var2, var3):\n",
        "    # Swap values between var1, var2, and var3\n",
        "    var1, var2, var3 = var2, var3, var1\n",
        "    return var1, var2, var3\n",
        "\n",
        "# Contoh penggunaan fungsi swap\n",
        "var1 = 1\n",
        "var2 = 2\n",
        "var3 = 3\n",
        "\n",
        "var1, var2, var3 = swap(var1, var2, var3)\n",
        "print(var1, var2, var3)\n"
      ],
      "metadata": {
        "colab": {
          "base_uri": "https://localhost:8080/"
        },
        "id": "2s0QBwxoHW1-",
        "outputId": "d436f6e5-1b9d-44bd-852f-a693b34c4b9f"
      },
      "execution_count": 3,
      "outputs": [
        {
          "output_type": "stream",
          "name": "stdout",
          "text": [
            "2 3 1\n"
          ]
        }
      ]
    },
    {
      "cell_type": "code",
      "source": [
        "# Daftar angka yang akan disortir\n",
        "list = [25, 21, 22, 24, 23, 27, 26]\n",
        "\n",
        "# Proses penukaran dengan bubble sort\n",
        "lastElementIndex = len(list) - 1\n",
        "print(0, list)\n",
        "\n",
        "for idx in range(lastElementIndex):\n",
        "    if list[idx] > list[idx + 1]:\n",
        "        # Menukar posisi jika elemen saat ini lebih besar dari elemen berikutnya\n",
        "        list[idx], list[idx + 1] = list[idx + 1], list[idx]\n",
        "    print(idx + 1, list)\n"
      ],
      "metadata": {
        "colab": {
          "base_uri": "https://localhost:8080/"
        },
        "id": "XNzZvYO9HlvE",
        "outputId": "0f8e79cb-32cd-4aac-d74b-1a38e37e1508"
      },
      "execution_count": 4,
      "outputs": [
        {
          "output_type": "stream",
          "name": "stdout",
          "text": [
            "0 [25, 21, 22, 24, 23, 27, 26]\n",
            "1 [21, 25, 22, 24, 23, 27, 26]\n",
            "2 [21, 22, 25, 24, 23, 27, 26]\n",
            "3 [21, 22, 24, 25, 23, 27, 26]\n",
            "4 [21, 22, 24, 23, 25, 27, 26]\n",
            "5 [21, 22, 24, 23, 25, 27, 26]\n",
            "6 [21, 22, 24, 23, 25, 26, 27]\n"
          ]
        }
      ]
    },
    {
      "cell_type": "markdown",
      "source": [
        "CARA LAIN"
      ],
      "metadata": {
        "id": "NKIrcE7YNh2b"
      }
    },
    {
      "cell_type": "code",
      "source": [
        "# Daftar angka yang akan disortir\n",
        "arr = [25, 21, 22, 24, 23, 27, 26]\n",
        "\n",
        "# Implementasi Bubble Sort dengan penghitung swap\n",
        "n = len(arr)\n",
        "swap_count = 0\n",
        "for i in range(n):\n",
        "    for j in range(0, n - i - 1):\n",
        "        if arr[j] > arr[j + 1]:\n",
        "            arr[j], arr[j + 1] = arr[j + 1], arr[j]\n",
        "            swap_count += 1\n",
        "    print(f\"Iterasi {i + 1}: {arr}\")\n",
        "\n",
        "print(\"Jumlah swap:\", swap_count)\n",
        "print(\"Hasil urutan:\", arr)\n"
      ],
      "metadata": {
        "colab": {
          "base_uri": "https://localhost:8080/"
        },
        "id": "bw7UWYQzNcEm",
        "outputId": "c6e92e37-a9f9-4682-e36c-c996eeb5fc26"
      },
      "execution_count": 25,
      "outputs": [
        {
          "output_type": "stream",
          "name": "stdout",
          "text": [
            "Iterasi 1: [21, 22, 24, 23, 25, 26, 27]\n",
            "Iterasi 2: [21, 22, 23, 24, 25, 26, 27]\n",
            "Iterasi 3: [21, 22, 23, 24, 25, 26, 27]\n",
            "Iterasi 4: [21, 22, 23, 24, 25, 26, 27]\n",
            "Iterasi 5: [21, 22, 23, 24, 25, 26, 27]\n",
            "Iterasi 6: [21, 22, 23, 24, 25, 26, 27]\n",
            "Iterasi 7: [21, 22, 23, 24, 25, 26, 27]\n",
            "Jumlah swap: 6\n",
            "Hasil urutan: [21, 22, 23, 24, 25, 26, 27]\n"
          ]
        }
      ]
    },
    {
      "cell_type": "code",
      "source": [
        "def bubbleSort(list):\n",
        "    lastElementIndex = len(list) - 1\n",
        "    for passNo in range(lastElementIndex, 0, -1):\n",
        "        for idx in range(passNo):\n",
        "            if list[idx] > list[idx + 1]:\n",
        "                list[idx], list[idx + 1] = list[idx + 1], list[idx]\n",
        "    return list\n",
        "\n",
        "# Contoh penggunaan\n",
        "list = [25, 21, 22, 24, 23, 27, 26]\n",
        "sorted_list = bubbleSort(list)\n",
        "print(sorted_list)\n"
      ],
      "metadata": {
        "colab": {
          "base_uri": "https://localhost:8080/"
        },
        "id": "JGRMYEPQIy7E",
        "outputId": "42e37b14-7fa3-4311-f261-fc38bda6dc06"
      },
      "execution_count": 8,
      "outputs": [
        {
          "output_type": "stream",
          "name": "stdout",
          "text": [
            "[21, 22, 23, 24, 25, 26, 27]\n"
          ]
        }
      ]
    },
    {
      "cell_type": "code",
      "source": [
        "# Daftar bilangan yang akan diurutkan\n",
        "arr = [100, 20, 60, 90, 40, 30, 10]\n",
        "\n",
        "# Implementasi Bubble Sort\n",
        "n = len(arr)\n",
        "for i in range(n):\n",
        "    for j in range(0, n - i - 1):\n",
        "        if arr[j] > arr[j + 1]:\n",
        "            # Tukar jika elemen yang saat ini lebih besar dari elemen berikutnya\n",
        "            arr[j], arr[j + 1] = arr[j + 1], arr[j]\n",
        "\n",
        "# Cetak hasil yang sudah diurutkan\n",
        "print(\"Hasil urutan:\", arr)\n"
      ],
      "metadata": {
        "colab": {
          "base_uri": "https://localhost:8080/"
        },
        "id": "HxLg-R8vJWH-",
        "outputId": "4ad8fbd0-25c1-460f-9e49-72580d7b2bc1"
      },
      "execution_count": 9,
      "outputs": [
        {
          "output_type": "stream",
          "name": "stdout",
          "text": [
            "Hasil urutan: [10, 20, 30, 40, 60, 90, 100]\n"
          ]
        }
      ]
    },
    {
      "cell_type": "code",
      "source": [
        "def insertionSort(list):\n",
        "    for i in range(1, len(list)):\n",
        "        j = i-1\n",
        "        next = list[i]\n",
        "        # Compare the current element with next one\n",
        "        while (list[j] > next) and (j >= 0):\n",
        "            list[j+1] = list[j]\n",
        "            j=j-1\n",
        "        list[j+1] = next\n",
        "    return list\n",
        "\n",
        "# Masukkan angka dengan urutan lainnya\n",
        "list = [35, 31, 32, 34, 33, 36]\n",
        "print(insertionSort(list))\n"
      ],
      "metadata": {
        "colab": {
          "base_uri": "https://localhost:8080/"
        },
        "id": "okib7w7YJqKp",
        "outputId": "678c08ee-6a76-436b-f18e-28217074ca85"
      },
      "execution_count": 10,
      "outputs": [
        {
          "output_type": "stream",
          "name": "stdout",
          "text": [
            "[31, 32, 33, 34, 35, 36]\n"
          ]
        }
      ]
    },
    {
      "cell_type": "code",
      "source": [
        "list = [25, 26, 22, 24, 27, 23, 21]\n"
      ],
      "metadata": {
        "id": "XMxVpqlIJ_ZR"
      },
      "execution_count": 12,
      "outputs": []
    },
    {
      "cell_type": "code",
      "source": [
        "insertionSort(list)\n",
        "print(list)\n"
      ],
      "metadata": {
        "colab": {
          "base_uri": "https://localhost:8080/"
        },
        "id": "waH2qAwGKmZU",
        "outputId": "e0a676cb-3e5c-4c67-83bb-abb598247531"
      },
      "execution_count": 14,
      "outputs": [
        {
          "output_type": "stream",
          "name": "stdout",
          "text": [
            "[21, 22, 23, 24, 25, 26, 27]\n"
          ]
        }
      ]
    },
    {
      "cell_type": "markdown",
      "source": [
        "LATIHAN INSERTION SORT"
      ],
      "metadata": {
        "id": "1mlbTHRYYkgR"
      }
    },
    {
      "cell_type": "code",
      "source": [
        "# Daftar bilangan yang akan diurutkan\n",
        "arr = [89, 12, 57, 16, 25, 11, 75]\n",
        "\n",
        "# Implementasi Insertion Sort\n",
        "for i in range(1, len(arr)):\n",
        "    key = arr[i]\n",
        "    j = i - 1\n",
        "    # Pindahkan elemen yang lebih besar dari key ke kanan\n",
        "    while j >= 0 and key < arr[j]:\n",
        "        arr[j + 1] = arr[j]\n",
        "        j -= 1\n",
        "    arr[j + 1] = key\n",
        "\n",
        "# Cetak hasil yang sudah diurutkan\n",
        "print(\"Hasil urutan:\", arr)\n"
      ],
      "metadata": {
        "colab": {
          "base_uri": "https://localhost:8080/"
        },
        "id": "HuyRsHFGK1Ks",
        "outputId": "8b4b5042-642e-4ff4-8e19-d4dd96878cfe"
      },
      "execution_count": 15,
      "outputs": [
        {
          "output_type": "stream",
          "name": "stdout",
          "text": [
            "Hasil urutan: [11, 12, 16, 25, 57, 75, 89]\n"
          ]
        }
      ]
    },
    {
      "cell_type": "code",
      "source": [
        "def SelectionSort(list):\n",
        "    for fill_slot in range(len(list) - 1, 0, -1):\n",
        "        max_index = fill_slot\n",
        "        for location in range(0, fill_slot):\n",
        "            if list[location] > list[max_index]:\n",
        "                max_index = location\n",
        "        list[fill_slot], list[max_index] = list[max_index], list[fill_slot]\n",
        "        return list\n",
        "\n",
        "list = [70, 15, 25, 19, 34]\n",
        "SelectionSort(list)"
      ],
      "metadata": {
        "colab": {
          "base_uri": "https://localhost:8080/"
        },
        "id": "OJn4allsLFvi",
        "outputId": "18949084-3787-44b6-be40-273e42681f8c"
      },
      "execution_count": 22,
      "outputs": [
        {
          "output_type": "execute_result",
          "data": {
            "text/plain": [
              "[34, 15, 25, 19, 70]"
            ]
          },
          "metadata": {},
          "execution_count": 22
        }
      ]
    },
    {
      "cell_type": "code",
      "source": [
        "list = [70, 15, 25, 19, 34, 44]\n",
        "SelectionSort(list)\n",
        "print(list)\n"
      ],
      "metadata": {
        "colab": {
          "base_uri": "https://localhost:8080/"
        },
        "id": "uFmAALumMJZp",
        "outputId": "73ce59cf-cc5b-4ff8-b48c-f1a98df3b70e"
      },
      "execution_count": 23,
      "outputs": [
        {
          "output_type": "stream",
          "name": "stdout",
          "text": [
            "[44, 15, 25, 19, 34, 70]\n"
          ]
        }
      ]
    },
    {
      "cell_type": "markdown",
      "source": [
        "LATIHAN SELECTION SORT"
      ],
      "metadata": {
        "id": "jlFpdhBeYyKG"
      }
    },
    {
      "cell_type": "code",
      "source": [
        "# Daftar bilangan yang akan diurutkan\n",
        "arr = [89, 12, 57, 16, 25]\n",
        "\n",
        "# Implementasi Selection Sort\n",
        "n = len(arr)\n",
        "for i in range(n):\n",
        "    # Temukan elemen terkecil dalam array yang belum terurut\n",
        "    min_idx = i\n",
        "    for j in range(i + 1, n):\n",
        "        if arr[j] < arr[min_idx]:\n",
        "            min_idx = j\n",
        "    # Tukar elemen terkecil dengan elemen pertama\n",
        "    arr[i], arr[min_idx] = arr[min_idx], arr[i]\n",
        "\n",
        "# Cetak hasil yang sudah diurutkan\n",
        "print(\"Hasil urutan:\", arr)\n"
      ],
      "metadata": {
        "colab": {
          "base_uri": "https://localhost:8080/"
        },
        "id": "0K0lzcKLMfVC",
        "outputId": "018b3b8b-373b-4f3e-cab4-85b14d7d0868"
      },
      "execution_count": 24,
      "outputs": [
        {
          "output_type": "stream",
          "name": "stdout",
          "text": [
            "Hasil urutan: [12, 16, 25, 57, 89]\n"
          ]
        }
      ]
    },
    {
      "cell_type": "code",
      "source": [
        "def LinearSearch(list, item):\n",
        "    index = 0\n",
        "    found = False\n",
        "    while index < len(list) and found is False:\n",
        "        if list[index] == item:\n",
        "            found = True\n",
        "        else:\n",
        "            index = index + 1\n",
        "    return found\n",
        "\n",
        "list = [12, 33, 11, 99, 22, 55, 90]\n",
        "print(LinearSearch(list, 12))\n",
        "print(LinearSearch(list, 91))\n"
      ],
      "metadata": {
        "colab": {
          "base_uri": "https://localhost:8080/"
        },
        "id": "x8qOnOblRr-U",
        "outputId": "6b82f40a-7628-475c-fe3c-c7844864c4d6"
      },
      "execution_count": 26,
      "outputs": [
        {
          "output_type": "stream",
          "name": "stdout",
          "text": [
            "True\n",
            "False\n"
          ]
        }
      ]
    },
    {
      "cell_type": "code",
      "source": [
        "#Kasus: Linear Search\n",
        "#Problem: Cari “a” dari deret huruf di bawah ini menggunakan metode searching linear search!\n",
        "#y  u  i  w  o  a  q  u  j  p\n",
        "\n",
        "# Deret huruf yang akan dicari\n",
        "arr = ['y', 'u', 'i', 'w', 'o', 'a', 'q', 'u', 'j', 'p']\n",
        "\n",
        "# Fungsi Linear Search\n",
        "def linear_search(arr, target):\n",
        "    for i in range(len(arr)):\n",
        "        if arr[i] == target:\n",
        "            return i  # Mengembalikan indeks di mana 'a' ditemukan\n",
        "    return -1  # Jika tidak ditemukan\n",
        "\n",
        "# Elemen yang dicari\n",
        "target = 'a'\n",
        "\n",
        "# Panggil fungsi linear_search dan cetak hasilnya\n",
        "result = linear_search(arr, target)\n",
        "\n",
        "if result != -1:\n",
        "    print(f\"Huruf '{target}' ditemukan pada indeks {result}\")\n",
        "else:\n",
        "    print(f\"Huruf '{target}' tidak ditemukan dalam deret\")\n"
      ],
      "metadata": {
        "colab": {
          "base_uri": "https://localhost:8080/"
        },
        "id": "9ZMDFmq-R3EB",
        "outputId": "2cd4febd-dbc4-440d-e628-b96703d4b05e"
      },
      "execution_count": 27,
      "outputs": [
        {
          "output_type": "stream",
          "name": "stdout",
          "text": [
            "Huruf 'a' ditemukan pada indeks 5\n"
          ]
        }
      ]
    },
    {
      "cell_type": "code",
      "source": [
        "def BinarySearch(list, item):\n",
        "    first = 0\n",
        "    last = len(list) - 1\n",
        "    found = False\n",
        "\n",
        "    while first <= last and not found:\n",
        "        midpoint = (first + last) // 2\n",
        "        if list[midpoint] == item:\n",
        "            found = True\n",
        "        else:\n",
        "            if item < list[midpoint]:\n",
        "                last = midpoint -1\n",
        "            else:\n",
        "                first = midpoint +1\n",
        "\n",
        "    return found\n",
        "\n",
        "sorted_list = [12, 33, 11, 99, 22, 55, 90]\n",
        "print(BinarySearch(sorted_list, 91))\n",
        "print(BinarySearch(sorted_list, 12))\n"
      ],
      "metadata": {
        "colab": {
          "base_uri": "https://localhost:8080/"
        },
        "id": "lWnoY6WYSQVN",
        "outputId": "17b10bd6-1c68-46cf-b640-7f34040b5017"
      },
      "execution_count": 29,
      "outputs": [
        {
          "output_type": "stream",
          "name": "stdout",
          "text": [
            "False\n",
            "True\n"
          ]
        }
      ]
    },
    {
      "cell_type": "code",
      "source": [
        "#Kasus: Binary Search\n",
        "#Problem: Cari “a” dari deret huruf di bawah ini menggunakan metode searching binary search!\n",
        "#y  u  i  w  o  a  q  u  j  p\n",
        "\n",
        "# Deret huruf yang akan diurutkan terlebih dahulu\n",
        "arr = ['y', 'u', 'i', 'o', 'w', 'a', 'q', 'u', 'j', 'p']\n",
        "\n",
        "# Urutkan array terlebih dahulu\n",
        "arr.sort()  # Mengurutkan array secara ascending\n",
        "\n",
        "# Fungsi Binary Search\n",
        "def binary_search(arr, target):\n",
        "    low = 0\n",
        "    high = len(arr) - 1\n",
        "\n",
        "    while low <= high:\n",
        "        mid = (low + high) // 2  # Cari elemen tengah\n",
        "        if arr[mid] == target:\n",
        "            return mid  # Jika elemen tengah adalah target\n",
        "        elif arr[mid] < target:\n",
        "            low = mid + 1  # Cari di bagian kanan\n",
        "        else:\n",
        "            high = mid - 1  # Cari di bagian kiri\n",
        "    return -1  # Jika elemen tidak ditemukan\n",
        "\n",
        "# Elemen yang dicari\n",
        "target = 'a'\n",
        "\n",
        "# Panggil fungsi binary_search dan cetak hasilnya\n",
        "result = binary_search(arr, target)\n",
        "\n",
        "if result != -1:\n",
        "    print(f\"Huruf '{target}' ditemukan pada indeks {result} dalam deret yang sudah diurutkan: {arr}\")\n",
        "else:\n",
        "    print(f\"Huruf '{target}' tidak ditemukan dalam deret\")\n"
      ],
      "metadata": {
        "colab": {
          "base_uri": "https://localhost:8080/"
        },
        "id": "wOxOx_m3Sped",
        "outputId": "a4a6da38-0c33-4fe1-97d3-36d1a042955a"
      },
      "execution_count": 31,
      "outputs": [
        {
          "output_type": "stream",
          "name": "stdout",
          "text": [
            "Huruf 'a' ditemukan pada indeks 0 dalam deret yang sudah diurutkan: ['a', 'i', 'j', 'o', 'p', 'q', 'u', 'u', 'w', 'y']\n"
          ]
        }
      ]
    },
    {
      "cell_type": "code",
      "source": [
        "def IntPolSearch(list, x):\n",
        "    idx0 = 0\n",
        "    idxn = (len(list) - 1)\n",
        "    found = False\n",
        "    while idx0 <= idxn and x >= list[idx0] and x <= list[idxn]: #Fixed typo idxn0 to idx0 and idxn1 to idxn\n",
        "        # Find the mid point\n",
        "        mid = idx0 + int(((float(idxn - idx0)/(list[idxn] - list[idx0])) * (x - list[idx0])))\n",
        "\n",
        "        # Compare the value at mid point with search value\n",
        "        if list[mid] == x:\n",
        "            found = True\n",
        "            return found\n",
        "\n",
        "        if list[mid] < x:\n",
        "            idx0 = mid + 1\n",
        "        else:\n",
        "            idxn = mid - 1\n",
        "    return found"
      ],
      "metadata": {
        "id": "4YrQiVp9T0Vs"
      },
      "execution_count": 42,
      "outputs": []
    },
    {
      "cell_type": "code",
      "source": [
        "list = [12, 33, 11, 99, 22, 55, 90]\n",
        "sorted_list = BubbleSort(list)\n",
        "print(IntPolSearch(list, 12))\n",
        "print(IntPolSearch(list, 91))"
      ],
      "metadata": {
        "colab": {
          "base_uri": "https://localhost:8080/"
        },
        "id": "ZxsmmQqkWafF",
        "outputId": "ac64e7a4-f5b4-4d49-e2fb-d5bdc4a31c8e"
      },
      "execution_count": 43,
      "outputs": [
        {
          "output_type": "stream",
          "name": "stdout",
          "text": [
            "True\n",
            "False\n"
          ]
        }
      ]
    },
    {
      "cell_type": "code",
      "source": [
        "#Kasus: Interpolation Search\n",
        "#Problem: Cari “u” dari deret huruf di bawah ini menggunakan metode searching interpolation search!\n",
        "#Variable y  u  i  w  o  a  q  u  j  p\n",
        "\n",
        "# Deret huruf yang akan diurutkan dan dicari\n",
        "arr = ['y', 'u', 'i', 'w', 'o', 'a', 'q', 'u', 'j', 'p']\n",
        "\n",
        "# Fungsi untuk mencari indeks dengan Interpolation Search\n",
        "def interpolation_search(arr, target):\n",
        "    low = 0\n",
        "    high = len(arr) - 1\n",
        "\n",
        "    # Mengubah target menjadi nilai ASCII\n",
        "    target_val = ord(target)\n",
        "\n",
        "    while low <= high and ord(arr[low]) <= target_val <= ord(arr[high]):\n",
        "        # Cek jika low dan high adalah posisi yang sama\n",
        "        if low == high:\n",
        "            if arr[low] == target:\n",
        "                return low\n",
        "            return -1\n",
        "\n",
        "        # Rumus Interpolation Search\n",
        "        pos = low + ((target_val - ord(arr[low])) * (high - low) // (ord(arr[high]) - ord(arr[low])))\n",
        "\n",
        "        # Jika elemen pada pos adalah target\n",
        "        if arr[pos] == target:\n",
        "            return pos\n",
        "\n",
        "        # Jika target lebih besar, cari di bagian kanan\n",
        "        if ord(arr[pos]) < target_val:\n",
        "            low = pos + 1\n",
        "        # Jika target lebih kecil, cari di bagian kiri\n",
        "        else:\n",
        "            high = pos - 1\n",
        "\n",
        "    return -1  # Jika elemen tidak ditemukan\n",
        "\n",
        "# Urutkan array terlebih dahulu\n",
        "arr.sort()\n",
        "\n",
        "# Elemen yang dicari\n",
        "target = 'u'\n",
        "\n",
        "# Panggil fungsi interpolation_search dan cetak hasilnya\n",
        "result = interpolation_search(arr, target)\n",
        "\n",
        "if result != -1:\n",
        "    print(f\"Huruf '{target}' ditemukan pada indeks {result} dalam deret yang sudah diurutkan: {arr}\")\n",
        "else:\n",
        "    print(f\"Huruf '{target}' tidak ditemukan dalam deret\")\n"
      ],
      "metadata": {
        "colab": {
          "base_uri": "https://localhost:8080/"
        },
        "id": "uoGYsyLTXxKi",
        "outputId": "99496653-d2d3-42e2-d900-257686456573"
      },
      "execution_count": 44,
      "outputs": [
        {
          "output_type": "stream",
          "name": "stdout",
          "text": [
            "Huruf 'u' ditemukan pada indeks 7 dalam deret yang sudah diurutkan: ['a', 'i', 'j', 'o', 'p', 'q', 'u', 'u', 'w', 'y']\n"
          ]
        }
      ]
    }
  ]
}
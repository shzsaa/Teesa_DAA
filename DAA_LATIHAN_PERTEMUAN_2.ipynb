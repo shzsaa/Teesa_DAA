{
  "nbformat": 4,
  "nbformat_minor": 0,
  "metadata": {
    "colab": {
      "provenance": []
    },
    "kernelspec": {
      "name": "python3",
      "display_name": "Python 3"
    },
    "language_info": {
      "name": "python"
    }
  },
  "cells": [
    {
      "cell_type": "code",
      "source": [
        "import numpy as np\n",
        "\n",
        "print (np.__version__)"
      ],
      "metadata": {
        "colab": {
          "base_uri": "https://localhost:8080/"
        },
        "id": "ffAVmznYLlbs",
        "outputId": "a8c286fb-eda8-4fec-b84f-87a473c48b4d"
      },
      "execution_count": 13,
      "outputs": [
        {
          "output_type": "stream",
          "name": "stdout",
          "text": [
            "1.26.4\n"
          ]
        }
      ]
    },
    {
      "cell_type": "code",
      "execution_count": 1,
      "metadata": {
        "colab": {
          "base_uri": "https://localhost:8080/"
        },
        "id": "rn6iQYyiFD6N",
        "outputId": "3b1535a3-0494-420e-eaa7-b74cf03c09f0"
      },
      "outputs": [
        {
          "output_type": "stream",
          "name": "stdout",
          "text": [
            "Hello, Google Colab!\n"
          ]
        }
      ],
      "source": [
        "print(\"Hello, Google Colab!\")\n"
      ]
    },
    {
      "cell_type": "code",
      "source": [
        "import numpy as np\n",
        "\n",
        "a = [1, 2, 3]\n",
        "b = [4, 5, 6]\n",
        "\n",
        "a_array = np.array(a)\n",
        "b_array = np.array(b)\n",
        "\n",
        "hasil = a_array + b_array\n",
        "\n",
        "print(hasil)\n"
      ],
      "metadata": {
        "colab": {
          "base_uri": "https://localhost:8080/"
        },
        "id": "How5IDbMHGrU",
        "outputId": "1eec7577-cfd8-491e-b2e3-460f1b21c1db"
      },
      "execution_count": 7,
      "outputs": [
        {
          "output_type": "stream",
          "name": "stdout",
          "text": [
            "[5 7 9]\n"
          ]
        }
      ]
    },
    {
      "cell_type": "code",
      "source": [
        "import numpy as np\n",
        "\n",
        "# membuat array\n",
        "nilai_siswa = np.array([85, 55, 40, 90])\n",
        "\n",
        "# mengakses data pada array\n",
        "print(nilai_siswa[3])\n"
      ],
      "metadata": {
        "colab": {
          "base_uri": "https://localhost:8080/"
        },
        "id": "aEgA1EfqJhiS",
        "outputId": "ae8714d3-5cc5-4993-be0d-b0383e6502cb"
      },
      "execution_count": 8,
      "outputs": [
        {
          "output_type": "stream",
          "name": "stdout",
          "text": [
            "90\n"
          ]
        }
      ]
    },
    {
      "cell_type": "markdown",
      "source": [
        "nilai_siswa[3] mengakses elemen ke-4 dari array tersebut (karena indeks di Python dimulai dari 0)."
      ],
      "metadata": {
        "id": "X-CN7NuSJ2GE"
      }
    },
    {
      "cell_type": "code",
      "source": [
        "print(\"Hello, World!\")\n",
        "print(\"Nama saya Teesa Shahnaz Triviraquetta\")\n",
        "print(\"NIM saya 2023071062\")"
      ],
      "metadata": {
        "colab": {
          "base_uri": "https://localhost:8080/"
        },
        "id": "Qcey1W-tJujr",
        "outputId": "4a0063ab-05a5-47cb-c86b-2a5d66b1eadb"
      },
      "execution_count": 9,
      "outputs": [
        {
          "output_type": "stream",
          "name": "stdout",
          "text": [
            "Hello, World!\n",
            "Nama saya Teesa Shahnaz Triviraquetta\n",
            "NIM saya 2023071062\n"
          ]
        }
      ]
    },
    {
      "cell_type": "code",
      "source": [
        "if 5 > 2:\n",
        "    print(\"Five is greater than two!\")"
      ],
      "metadata": {
        "colab": {
          "base_uri": "https://localhost:8080/"
        },
        "id": "_cZnE4YOKd9k",
        "outputId": "3a5843bb-1da8-443a-d661-e6825226b51f"
      },
      "execution_count": 10,
      "outputs": [
        {
          "output_type": "stream",
          "name": "stdout",
          "text": [
            "Five is greater than two!\n"
          ]
        }
      ]
    },
    {
      "cell_type": "code",
      "source": [
        "x = 5\n",
        "y = \"John\"\n",
        "print(x)\n",
        "print(y)"
      ],
      "metadata": {
        "colab": {
          "base_uri": "https://localhost:8080/"
        },
        "id": "SOjqxOqfKyJO",
        "outputId": "e0ab99e9-ea97-40dc-c81b-7abbd1aaadf4"
      },
      "execution_count": 11,
      "outputs": [
        {
          "output_type": "stream",
          "name": "stdout",
          "text": [
            "5\n",
            "John\n"
          ]
        }
      ]
    },
    {
      "cell_type": "code",
      "source": [
        "x = 4\n",
        "x = \"Sally\"\n",
        "print(x)"
      ],
      "metadata": {
        "colab": {
          "base_uri": "https://localhost:8080/"
        },
        "id": "y5zdW4NdK8nL",
        "outputId": "d138683d-dded-4f35-c183-6ba20a0b0a82"
      },
      "execution_count": 12,
      "outputs": [
        {
          "output_type": "stream",
          "name": "stdout",
          "text": [
            "Sally\n"
          ]
        }
      ]
    },
    {
      "cell_type": "markdown",
      "source": [
        "print(x)  mencetak nilai terbaru dari x, yaitu \"Sally\"."
      ],
      "metadata": {
        "id": "rkdMk_q-LWGn"
      }
    },
    {
      "cell_type": "code",
      "source": [
        "def getFirst(myList):\n",
        "    return myList [0]\n",
        "\n",
        "getFirst([1,2,3])\n"
      ],
      "metadata": {
        "colab": {
          "base_uri": "https://localhost:8080/"
        },
        "id": "ss-bQLEwLaAl",
        "outputId": "3f28ac8d-4a90-4da1-bc51-308186798c25"
      },
      "execution_count": 1,
      "outputs": [
        {
          "output_type": "execute_result",
          "data": {
            "text/plain": [
              "1"
            ]
          },
          "metadata": {},
          "execution_count": 1
        }
      ]
    },
    {
      "cell_type": "code",
      "source": [
        "getFirst ([1,2,3,4,5,6])"
      ],
      "metadata": {
        "colab": {
          "base_uri": "https://localhost:8080/"
        },
        "id": "Q3cY7uEO0elK",
        "outputId": "a2b5f03e-7bba-4723-a02e-cd88265e4826"
      },
      "execution_count": 2,
      "outputs": [
        {
          "output_type": "execute_result",
          "data": {
            "text/plain": [
              "1"
            ]
          },
          "metadata": {},
          "execution_count": 2
        }
      ]
    },
    {
      "cell_type": "code",
      "source": [
        "#cara dapet getSecond\n",
        "def getSecond(myList):\n",
        "    return myList[1]\n",
        "\n",
        "getSecond([1, 2, 3])\n"
      ],
      "metadata": {
        "colab": {
          "base_uri": "https://localhost:8080/"
        },
        "id": "naud9VT50wsu",
        "outputId": "1fee88e2-e25d-46dc-c386-c086f0e6a5ab"
      },
      "execution_count": 5,
      "outputs": [
        {
          "output_type": "execute_result",
          "data": {
            "text/plain": [
              "2"
            ]
          },
          "metadata": {},
          "execution_count": 5
        }
      ]
    },
    {
      "cell_type": "code",
      "source": [
        "#cara dapet getLast\n",
        "def getLast(myList):\n",
        "    return myList[-1]\n",
        "\n",
        "getLast([1, 2, 3,4, 5, 6, 7, 8])\n"
      ],
      "metadata": {
        "colab": {
          "base_uri": "https://localhost:8080/"
        },
        "id": "bLILwDR_1kbU",
        "outputId": "32752c22-7fa6-4cb5-b11c-d71dc3504f3d"
      },
      "execution_count": 6,
      "outputs": [
        {
          "output_type": "execute_result",
          "data": {
            "text/plain": [
              "8"
            ]
          },
          "metadata": {},
          "execution_count": 6
        }
      ]
    },
    {
      "cell_type": "code",
      "source": [
        "def getSum(myList):\n",
        "    sum = 0\n",
        "    for item in myList:\n",
        "        sum = sum+item\n",
        "    return sum\n",
        "\n",
        "getSum([1, 2, 3, 4])"
      ],
      "metadata": {
        "colab": {
          "base_uri": "https://localhost:8080/"
        },
        "id": "y7_UUNsb10Gj",
        "outputId": "5d438997-251c-4430-a363-09a1e21422dd"
      },
      "execution_count": 8,
      "outputs": [
        {
          "output_type": "execute_result",
          "data": {
            "text/plain": [
              "10"
            ]
          },
          "metadata": {},
          "execution_count": 8
        }
      ]
    },
    {
      "cell_type": "code",
      "source": [
        "getSum ([1,2,3])"
      ],
      "metadata": {
        "colab": {
          "base_uri": "https://localhost:8080/"
        },
        "id": "_xSdzLFv2b6p",
        "outputId": "ebe26329-f2ae-4e51-bfcc-840ac8d711f0"
      },
      "execution_count": 9,
      "outputs": [
        {
          "output_type": "execute_result",
          "data": {
            "text/plain": [
              "6"
            ]
          },
          "metadata": {},
          "execution_count": 9
        }
      ]
    },
    {
      "cell_type": "code",
      "source": [
        "#cara mengalikan seluruh angka\n",
        "def getKali(myList):\n",
        "    hasil = 1\n",
        "    for item in myList:\n",
        "        hasil = hasil * item\n",
        "    return hasil\n",
        "\n",
        "print(getKali([1, 2, 3, 4]))\n"
      ],
      "metadata": {
        "colab": {
          "base_uri": "https://localhost:8080/"
        },
        "id": "b6CYw5kg2hfw",
        "outputId": "6125ec87-0dc0-4db9-d08e-793294b505f1"
      },
      "execution_count": 10,
      "outputs": [
        {
          "output_type": "stream",
          "name": "stdout",
          "text": [
            "24\n"
          ]
        }
      ]
    },
    {
      "cell_type": "code",
      "source": [
        "#cara membagi seluruh angka\n",
        "def getBagi(myList):\n",
        "    if not myList:\n",
        "        raise ValueError(\"List tidak boleh kosong\")\n",
        "\n",
        "    hasil = myList[0]\n",
        "\n",
        "    for item in myList[1:]:\n",
        "        if item == 0:\n",
        "            raise ZeroDivisionError(\"Pembagian dengan nol tidak diperbolehkan\")\n",
        "        hasil /= item\n",
        "\n",
        "    return hasil\n",
        "\n",
        "print(getBagi([4, 2]))\n"
      ],
      "metadata": {
        "colab": {
          "base_uri": "https://localhost:8080/"
        },
        "id": "JQcQARxf3ZA_",
        "outputId": "1af977d4-af75-4b04-ba31-7cc6ef3a97b5"
      },
      "execution_count": 12,
      "outputs": [
        {
          "output_type": "stream",
          "name": "stdout",
          "text": [
            "2.0\n"
          ]
        }
      ]
    },
    {
      "cell_type": "code",
      "source": [
        "def getSum(myList):\n",
        "    sum = 0\n",
        "    for row in myList:\n",
        "        for item in row:\n",
        "            sum+=item\n",
        "    return sum\n",
        "\n",
        "getSum([[1,2,5],[3,4,7]])"
      ],
      "metadata": {
        "colab": {
          "base_uri": "https://localhost:8080/"
        },
        "id": "cRgA-9Hp4L4Q",
        "outputId": "8ab90bb1-b56e-419d-8a31-76dfc23df22c"
      },
      "execution_count": 18,
      "outputs": [
        {
          "output_type": "execute_result",
          "data": {
            "text/plain": [
              "22"
            ]
          },
          "metadata": {},
          "execution_count": 18
        }
      ]
    },
    {
      "cell_type": "code",
      "source": [
        "getSum ([[1,2], [3,4]])"
      ],
      "metadata": {
        "colab": {
          "base_uri": "https://localhost:8080/"
        },
        "id": "TMrNVENe47oq",
        "outputId": "93e25b47-441b-41f4-dfd4-5aa62dd4d508"
      },
      "execution_count": 19,
      "outputs": [
        {
          "output_type": "execute_result",
          "data": {
            "text/plain": [
              "10"
            ]
          },
          "metadata": {},
          "execution_count": 19
        }
      ]
    },
    {
      "cell_type": "code",
      "source": [
        "#membagi 2 himpunan angka\n",
        "def getBagiSum(list1, list2):\n",
        "    if len(list1) != len(list2):\n",
        "        raise ValueError(\"Kedua list harus memiliki panjang yang sama\")\n",
        "\n",
        "    sum = 0\n",
        "    for a, b in zip(list1, list2):\n",
        "        if b == 0:\n",
        "            raise ZeroDivisionError(\"Pembagian dengan nol tidak diperbolehkan\")\n",
        "        sum += a / b\n",
        "\n",
        "    return sum\n",
        "\n",
        "list1 = [10, 20, 30]\n",
        "list2 = [2, 4, 5]\n",
        "print(getBagiSum(list1, list2))\n"
      ],
      "metadata": {
        "colab": {
          "base_uri": "https://localhost:8080/"
        },
        "id": "HL967QuY6o8f",
        "outputId": "d7a8335e-3313-419e-ad6c-ee7e707aa9b1"
      },
      "execution_count": 20,
      "outputs": [
        {
          "output_type": "stream",
          "name": "stdout",
          "text": [
            "16.0\n"
          ]
        }
      ]
    },
    {
      "cell_type": "code",
      "source": [
        "#mengurangi 2 himpunan angka\n",
        "def getKurangSum(list1, list2):\n",
        "    if len(list1) != len(list2):\n",
        "        raise ValueError(\"Kedua list harus memiliki panjang yang sama\")\n",
        "\n",
        "    total = 0\n",
        "    for a, b in zip(list1, list2):\n",
        "        total += a - b\n",
        "\n",
        "    return total\n",
        "\n",
        "list1 = [10, 20, 30]\n",
        "list2 = [1, 2, 3]\n",
        "print(getKurangSum(list1, list2))\n"
      ],
      "metadata": {
        "id": "Ua-tgwpA603V"
      },
      "execution_count": null,
      "outputs": []
    },
    {
      "cell_type": "code",
      "source": [
        "#logarithmic\n",
        "def searchBinary(myList, item):\n",
        "    first = 0\n",
        "    last = len(myList)-1\n",
        "    foundFlag = False\n",
        "    while( first<=last and not foundFlag):\n",
        "        mid = (first + last)//2\n",
        "        if myList[mid] == item:\n",
        "            foundFlag = True\n",
        "        else:\n",
        "            if item < myList[mid]:\n",
        "                last = mid - 1\n",
        "            else:\n",
        "                first = mid + 1\n",
        "\n",
        "    return foundFlag\n",
        "\n",
        "searchBinary ([8,9,10,100,1000,2000,3000], 10)"
      ],
      "metadata": {
        "colab": {
          "base_uri": "https://localhost:8080/"
        },
        "id": "JXn-4SKN7U_2",
        "outputId": "2a915591-b0af-4294-d24b-9eda7ec8544f"
      },
      "execution_count": 24,
      "outputs": [
        {
          "output_type": "execute_result",
          "data": {
            "text/plain": [
              "True"
            ]
          },
          "metadata": {},
          "execution_count": 24
        }
      ]
    },
    {
      "cell_type": "code",
      "source": [
        "searchBinary([8,9,10,100,1000,2000,3000], 5)"
      ],
      "metadata": {
        "colab": {
          "base_uri": "https://localhost:8080/"
        },
        "id": "OjhKmU568ySt",
        "outputId": "e22c2740-e12f-4a9e-8947-7e323b1d5894"
      },
      "execution_count": 25,
      "outputs": [
        {
          "output_type": "execute_result",
          "data": {
            "text/plain": [
              "False"
            ]
          },
          "metadata": {},
          "execution_count": 25
        }
      ]
    }
  ]
}